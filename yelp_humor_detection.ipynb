{
 "cells": [
  {
   "cell_type": "markdown",
   "metadata": {},
   "source": [
    "# Yelp Review Humor Detection\n",
    "## Running the notebook\n",
    "To run this Jupyter notebook, you can clone the [Conda](https://conda.io/docs/) environment that I used by installing the dependencies listed in the spec-file.txt in this repository. Simply run\n",
    "\n",
    "`conda create --name myenv --file spec-file.txt\n",
    "source activate myenv`\n",
    "\n",
    "where \"myenv\" is the name of your environment. Then, to get the word vectors, download the spaCy model with \n",
    "\n",
    "`python -m spacy download en_vectors_web_lg`\n",
    "\n",
    "My Python version is 3.6.2.\n",
    "\n",
    "## The premise\n",
    "Plenty of machine learning research has investigated sentiment analysis in the context of positive versus negative online reviews. By contrast, very few works have focused on computational humor... in this case, the detection of _funny_ reviews.\n",
    "\n",
    "[Oliveira & Rodrigo](https://cs224d.stanford.edu/reports/OliveiraLuke.pdf) determined that making such predictions is quite possible with a variety of machine learning architectures. This notebook attempts to reproduce a subset of their results - specifically, the accuracy they obtained from the use of a recurrent neural network (RNN).\n",
    "\n",
    "## The problem\n",
    "Using the [Yelp Open Dataset](https://www.yelp.com/dataset) of over 4 million business reviews, I want to see if it's possible to train a classifier that will correctly determine whether a Yelp review is funny or not. Humor, of course, is a largely subjective measure. Yelp allows users to mark a particular review as being funny. So, to more rigorously define the binary classification problem and the source of truth, I use the same assumption made by Oliveira & Rodrigo: that a review is \"funny\" if it has 3 or more \"funny\" votes.\n",
    "\n",
    "## The approach\n",
    "A review can be seen as a sequence of word vectors, where each vector represents a similarity measure for a particular \"token\" in the review. A token can be a word, punctuation mark, etc. (The exact tokenization of a review is dependent on the language in which it is written.) We can view these sequences as many-to-one mappings via an RNN that outputs a single label, denoting \"funny\" or \"not funny,\" after feeding it an entire sequence. With an RNN that includes memory units in its architecture, we can attempt to capture long-term dependencies within the text for improved classification.\n",
    "\n",
    "### Overview of the data\n",
    "Let's begin by first looking at what a single Yelp review looks like from our dataset. I can't include the JSON file due to its size (and possibly some restrictions on how it should be shared), so **don't run the code block below!** Just observe the output. If you want to replicate this work, you'll want to get the dataset yourself from the link above."
   ]
  },
  {
   "cell_type": "code",
   "execution_count": 2,
   "metadata": {},
   "outputs": [
    {
     "name": "stdout",
     "output_type": "stream",
     "text": [
      "{'review_id': 'VfBHSwC5Vz_pbFluy07i9Q', 'user_id': 'cjpdDjZyprfyDG3RlkVG3w', 'business_id': 'uYHaNptLzDLoV_JZ_MuzUA', 'stars': 5, 'date': '2016-07-12', 'text': 'My girlfriend and I stayed here for 3 nights and loved it. The location of this hotel and very decent price makes this an amazing deal. When you walk out the front door Scott Monument and Princes street are right in front of you, Edinburgh Castle and the Royal Mile is a 2 minute walk via a close right around the corner, and there are so many hidden gems nearby including Calton Hill and the newly opened Arches that made this location incredible.\\n\\nThe hotel itself was also very nice with a reasonably priced bar, very considerate staff, and small but comfortable rooms with excellent bathrooms and showers. Only two minor complaints are no telephones in room for room service (not a huge deal for us) and no AC in the room, but they have huge windows which can be fully opened. The staff were incredible though, letting us borrow umbrellas for the rain, giving us maps and directions, and also when we had lost our only UK adapter for charging our phones gave us a very fancy one for free.\\n\\nI would highly recommend this hotel to friends, and when I return to Edinburgh (which I most definitely will) I will be staying here without any hesitation.', 'useful': 0, 'funny': 0, 'cool': 0}\n",
      "\n",
      "Total reviews: 4736897\n",
      "Funny reviews: 176788\n",
      "Normal reviews: 4560109\n"
     ]
    }
   ],
   "source": [
    "### DON'T RE-RUN THIS BLOCK\n",
    "\n",
    "import json\n",
    "\n",
    "total = 0\n",
    "num_funny = 0\n",
    "funny_threshold = 3\n",
    "with open('yelp_dataset/review.json') as reviews_file:\n",
    "    for line in reviews_file:\n",
    "        total += 1\n",
    "        review = json.loads(line)\n",
    "        if total == 1:\n",
    "            # Let's print the very first review, just to see what it looks like.\n",
    "            print(review)\n",
    "        if review['funny'] >= funny_threshold:\n",
    "            num_funny += 1\n",
    "            \n",
    "print('\\nTotal reviews: %d\\nFunny reviews: %d\\nNormal reviews: %d' % (total, num_funny, total - num_funny))"
   ]
  },
  {
   "cell_type": "markdown",
   "metadata": {},
   "source": [
    "As you can probably guess, for our purposes, the most important fields in a Yelp review \"data point\" are the 'text' and 'funny' keys. The 'text' key maps to the text of the review, which will ultimately be transformed into a sequence of word vectors. The 'funny' key maps to the number of \"funny\" votes that the review received from other Yelp users. If this value is greater than or equal to the funny threshold (set at 3), then the review is labeled as funny. Otherwise, it's not funny.\n",
    "\n",
    "To create my own dataset, I simply read through the JSON file and store the reviews as a list of dictionaries, with each dictionary representing a single sample containing the text of a particular review along with its label **(0 for not funny, 1 for funny)**. I stop reading the JSON file when I've created a balanced dataset of the desired size, with equal numbers of funny and not funny reviews. **The first half of the dataset consists entirely of funny reviews while the second half contains only of not funny reviews.** This observation will allow me to easily split the dataset for training/testing while still maintaining balanced sets.\n",
    "\n",
    "I wrap this dataset inside a PyTorch Dataset object to take advantage of easier training/testing splitting afforded by the Sampler and DataLoader classes. To save time, I loaded the dataset through a pickle."
   ]
  },
  {
   "cell_type": "code",
   "execution_count": 1,
   "metadata": {},
   "outputs": [
    {
     "name": "stdout",
     "output_type": "stream",
     "text": [
      "Loading from pickle...\n",
      "Loaded 100000 reviews from dataset.p!\n"
     ]
    }
   ],
   "source": [
    "import pickle\n",
    "from torch.utils.data import Dataset\n",
    "\n",
    "class ReviewsDataset(Dataset):\n",
    "    def __init__(self, reviews=[], fields=['text']):\n",
    "        '''\n",
    "        Args:\n",
    "            reviews (List[dict]): List of dictionaries, each one a sample from the dataset\n",
    "            fields (List[string]): List of fields to extract from each review\n",
    "        '''\n",
    "        self.reviews = reviews\n",
    "        self.fields = fields\n",
    "        \n",
    "    def __len__(self):\n",
    "        return len(self.reviews)\n",
    "    \n",
    "    def __getitem__(self, idx):\n",
    "        return self.reviews[idx]\n",
    "    \n",
    "    def read_from_file(self, raw_data_path, count=2000, pickle_filename=None, funny_threshold=3):\n",
    "        '''\n",
    "        Reads a JSON file containing the Yelp reviews and creates a dataset from the raw data.\n",
    "        Args:\n",
    "            raw_data_path (string): Path to the Yelp JSON file\n",
    "            count (int): Number of reviews to extract from each label (dataset size will be twice this number)\n",
    "            pickle_filename (string): Name used for the pickled dataset; if None, pickle is not created\n",
    "            funny_threshold (int): Number of \"funny\" votes needed for a review to be considered funny\n",
    "        '''\n",
    "        funny_reviews = []\n",
    "        not_funny_reviews = []\n",
    "        with open(raw_data_path) as reviews_file:\n",
    "            for line in reviews_file:\n",
    "                # Break when we've created a balanced dataset with count reviews in each category.\n",
    "                if len(funny_reviews) == count and len(not_funny_reviews) == count:\n",
    "                    break\n",
    "                    \n",
    "                sample = {}\n",
    "                review = json.loads(line)\n",
    "                for f in self.fields:\n",
    "                    sample[f] = review[f]\n",
    "                    \n",
    "                if review['funny'] >= funny_threshold and len(funny_reviews) < count:\n",
    "                    sample['label'] = 1\n",
    "                    funny_reviews.append(sample)\n",
    "                elif review['funny'] < funny_threshold and len(not_funny_reviews) < count:\n",
    "                    sample['label'] = 0\n",
    "                    not_funny_reviews.append(sample)\n",
    "        \n",
    "        # Notice that the first half of self.reviews is all funny reviews \n",
    "        # and the second half is all not funny reviews.\n",
    "        self.reviews = funny_reviews + not_funny_reviews[:len(funny_reviews)]\n",
    "        \n",
    "        if pickle_filename is not None:\n",
    "            print('Pickling %d reviews...' % (len(self)))\n",
    "            pickle.dump(self.reviews, open(pickle_filename, 'wb'))\n",
    "            print('Pickled as %s' % (pickle_filename))\n",
    "            \n",
    "        print('Loaded a balanced dataset of %d reviews!' % (len(self.reviews)))\n",
    "\n",
    "    def read_from_pickle(self, pickle_path):\n",
    "        '''\n",
    "        Loads a dataset from a pickle.\n",
    "        Args:\n",
    "            pickle_path: Path to the pickle file to be used\n",
    "        '''\n",
    "        print('Loading from pickle...')\n",
    "        self.reviews = pickle.load(open(pickle_path, \"rb\"))\n",
    "        print('Loaded %d reviews from %s!' % (len(self), pickle_path))\n",
    "    \n",
    "data = ReviewsDataset()\n",
    "# data.read_from_file('yelp_dataset/review.json', 50000, 'dataset.p')\n",
    "data.read_from_pickle('dataset.p')"
   ]
  },
  {
   "cell_type": "markdown",
   "metadata": {},
   "source": [
    "Here's a single sample from my dataset (the review is kind of funny, I guess, but maybe I should have bumped up the humor threshold)."
   ]
  },
  {
   "cell_type": "code",
   "execution_count": 2,
   "metadata": {},
   "outputs": [
    {
     "name": "stdout",
     "output_type": "stream",
     "text": [
      "{'text': 'Slots-A-Fun has very strange odor. A mixture of cigarettes, hot dogs, pizza, B.O., and industial strength cleaner (the kind they use in the \"adult\" bookstores). I took a couple friends through here on the obligatory ten minute tour. Enough time to buy a couple beers, lose $3 in a slot machine (at least I got a quarter back!!! A real quarter-not a coupon-the only reason this place gets 2 stars!) and cruise by the $1 roulette table. I was hoping to teach my table game-wary friend how to play a simple game of roulette, but the proliferation of Lil\\' John and Ludacris wannabes hovering nearby scared her away. YEEEEAAAAH! Oh well- I never do well at those low limit tables anyway. I played craps here once and dealers were extemely rude. I wonder why this place, and circus circus,still exist when everything else nearby has been imploded.', 'label': 1}\n"
     ]
    }
   ],
   "source": [
    "print(data[200])"
   ]
  },
  {
   "cell_type": "markdown",
   "metadata": {},
   "source": [
    "### Tokenizing the data\n",
    "Each review sample must be converted into a sequence of word vectors before it can be fed through the RNN. To make this conversion, I use the [spaCy](https://spacy.io/) library, which allows one to easily tokenize a text and generate word vectors for each token."
   ]
  },
  {
   "cell_type": "code",
   "execution_count": 3,
   "metadata": {},
   "outputs": [
    {
     "name": "stdout",
     "output_type": "stream",
     "text": [
      "Apple\n",
      "is\n",
      "looking\n",
      "at\n",
      "buying\n",
      "U.K.\n",
      "startup\n",
      "for\n",
      "$\n",
      "1\n",
      "billion\n"
     ]
    }
   ],
   "source": [
    "import spacy\n",
    "nlp = spacy.load('en_vectors_web_lg')\n",
    "\n",
    "# Example of using spaCy to generate tokens\n",
    "doc = nlp(u'Apple is looking at buying U.K. startup for $1 billion')\n",
    "for token in doc:\n",
    "    print(token.text)"
   ]
  },
  {
   "cell_type": "markdown",
   "metadata": {},
   "source": [
    "These vectors (of length 300) will then be converted into PyTorch tensors and fed, one at a time and in order, into the RNN."
   ]
  },
  {
   "cell_type": "code",
   "execution_count": 4,
   "metadata": {
    "collapsed": true
   },
   "outputs": [],
   "source": [
    "import torch\n",
    "\n",
    "def token2tensor(token):\n",
    "    return torch.from_numpy(token.vector)"
   ]
  },
  {
   "cell_type": "markdown",
   "metadata": {},
   "source": [
    "One unresolved issue here is the fact that some tokens do not have word vectors. A common reason for this problem is that the token represents a word that is out-of-vocabulary or a lot less common than others (or, in the case of Yelp reviews, the word is misspelled).\n",
    "\n",
    "In those cases, `token.vector` simply returns a zero-vector. There's a good chance that these words are negatively impacting the learning process, since zero-vectors are treated no differently by the RNN. Skipping over the word doesn't seem like the best idea (since we want to preserve the sequence of words as much as possible), so for now, I'm betting on the zero-vector not showing up enough during training to matter in the grand scheme of things.\n",
    "\n",
    "### The RNN\n",
    "Now that we've defined our input to the RNN, let's make the network itself. The RNN uses Gated Recurrent Units (GRU) with 128 hidden units and a dropout ratio of 0.5. The input and hidden sequences are also sent through a linear transformation and LogSoftmax layer to generate the output (label)."
   ]
  },
  {
   "cell_type": "code",
   "execution_count": 5,
   "metadata": {
    "collapsed": true
   },
   "outputs": [],
   "source": [
    "import torch.nn as nn\n",
    "from torch.autograd import Variable\n",
    "\n",
    "# create the RNN\n",
    "class RNN(nn.Module):\n",
    "    def __init__(self, input_size, hidden_size):\n",
    "        '''\n",
    "        Initialize the RNN layers.\n",
    "        Args:\n",
    "            input_size: Length of the input word vector\n",
    "            hidden_size: Number of hidden units in the RNN\n",
    "        '''\n",
    "        super(RNN, self).__init__()\n",
    "        \n",
    "        self.hidden_size = hidden_size\n",
    "        \n",
    "        self.input2hidden = nn.GRU(input_size, hidden_size, dropout=0.5)\n",
    "        self.input2output = nn.Linear(input_size + hidden_size, out_features=2)\n",
    "        self.softmax = nn.LogSoftmax()\n",
    "        \n",
    "    def initHidden(self):\n",
    "        '''\n",
    "        Initialize all hidden sequences to zero.\n",
    "        '''\n",
    "        return Variable(torch.zeros(1, 1, self.hidden_size))\n",
    "    \n",
    "    def forward(self, input, hidden):\n",
    "        '''\n",
    "        Generate a new hidden state and output given an input vector and current hidden state.\n",
    "        Args:\n",
    "            input (Variable): The input word tensor\n",
    "            hidden (Variable): The last hidden state tensor\n",
    "            \n",
    "        Returns:\n",
    "            output (Tensor): 2x1 tensor representing likelihoods that a review is funny based on the input so far\n",
    "            hidden (Tensor): The next hidden state tensor\n",
    "        '''\n",
    "        # Combine the input and hidden tensors for use in generating the output.\n",
    "        # We use index 0 for the first two dimensions because the tensor dimensions \n",
    "        # are structured as (Number of Batches x Number of Instances Per Batch x Length of Each Instance's Tensor)\n",
    "        combined = torch.cat((input[0,0,:], hidden[0,0,:]))\n",
    "        \n",
    "        # Generate next hidden state.\n",
    "        hidden, _ = self.input2hidden(input, hidden)\n",
    "        \n",
    "        # Generate next output label by passing the previous input and hidden state through \n",
    "        # a linear transformation and LogSoftmax layer.\n",
    "        output = self.input2output(combined)\n",
    "        output = self.softmax(output)\n",
    "        return output, hidden\n",
    "    \n",
    "# data specifications\n",
    "input_size = 300 # length of a single word vector\n",
    "hidden_units = 128\n",
    "\n",
    "# initialize the RNN\n",
    "model = RNN(input_size, hidden_units)"
   ]
  },
  {
   "cell_type": "markdown",
   "metadata": {},
   "source": [
    "As mentioned earlier, I train the RNN by taking each sample's text and feeding the word vectors for each token one at a time as input. I optimize on the negative log-likelihood loss function using the _adam_ optimizer.\n",
    "\n",
    "To make a prediction given a particular review, I first do the same thing as I do when training except I don't use the output to optimize the network parmeters. Then, I simply return the index (1 if funny, 0 if not funny) of the maximum value of the 2-length vector output."
   ]
  },
  {
   "cell_type": "code",
   "execution_count": 6,
   "metadata": {
    "collapsed": true
   },
   "outputs": [],
   "source": [
    "import torch.optim as optim\n",
    "\n",
    "# training specifications\n",
    "criterion = nn.NLLLoss() # negative log-likelihood loss function\n",
    "learning_rate = 0.00001\n",
    "optimizer = optim.Adam(model.parameters(), lr=learning_rate)\n",
    "\n",
    "def train_one(review):\n",
    "    '''\n",
    "    Trains the RNN on one review.\n",
    "    Args:\n",
    "        review (Dictionary): A batch containing a single review\n",
    "        \n",
    "    Returns:\n",
    "        output (Tensor): 2x1 tensor representing likelihoods that a review is funny based on the input so far\n",
    "        loss (float): The value of the loss function at the last layer of the RNN\n",
    "    '''\n",
    "    # Zero out the model gradients and hidden state so they aren't influenced by previous reviews.\n",
    "    model.zero_grad()\n",
    "    hidden = model.initHidden()\n",
    "    \n",
    "    # review is technically a batch, so we take the text of the first sample of the batch...\n",
    "    # (hence the 0 index)\n",
    "    doc = nlp(review['text'][0])\n",
    "    \n",
    "    # Feed the input one token at a time through our model.\n",
    "    for token in doc:\n",
    "        input_tensor = torch.zeros(1, 1, input_size)\n",
    "        input_tensor[0,0,:] = token2tensor(token)\n",
    "        output, hidden = model(Variable(input_tensor), hidden)\n",
    "        \n",
    "    # Calculate the loss functions at each layer; backpropagate and optimize.\n",
    "    loss = criterion(torch.unsqueeze(output, 0), Variable(torch.Tensor([review['label'][0]]).long()))\n",
    "    loss.backward()\n",
    "    optimizer.step()\n",
    "    \n",
    "    return output, loss.data[0]\n",
    "\n",
    "def get_label(output):\n",
    "    '''\n",
    "    Determine whether an output tensor says a review is funny or not funny.\n",
    "    Args:\n",
    "        output: 2x1 tensor\n",
    "        \n",
    "    Returns: \n",
    "        1 if the review corresponding to the tensor is more likely to be funny than not funny.\n",
    "        0 otherwise.\n",
    "    '''\n",
    "    _, indices = output.data.topk(1)\n",
    "    return indices[0]\n",
    "\n",
    "def predict(review):\n",
    "    '''\n",
    "    Predict whether a review is funny or not funny.\n",
    "    Args:\n",
    "        review (Dictionary): A batch containing a single review\n",
    "        \n",
    "    Returns:\n",
    "        1 if the review corresponding to the tensor is more likely to be funny than not funny.\n",
    "        0 otherwise.\n",
    "    '''\n",
    "    hidden = model.initHidden()\n",
    "    doc = nlp(review['text'][0])\n",
    "    for token in doc:\n",
    "        input_tensor = torch.zeros(1, 1, input_size)\n",
    "        input_tensor[0,0,:] = token2tensor(token)\n",
    "        output, hidden = model(Variable(input_tensor), hidden)\n",
    "\n",
    "    return get_label(output)"
   ]
  },
  {
   "cell_type": "markdown",
   "metadata": {},
   "source": [
    "### Training and testing\n",
    "Now, it's time to train the model on the dataset. First, I split the dataset into a training set and a testing set such that both sets remain balanced. Since the first half of the full dataset consists of funny reviews and the second half consists of not funny reviews, I can simply take half of the testing set from the front of the dataset and half from the back. The rest of the reviews become my training set."
   ]
  },
  {
   "cell_type": "code",
   "execution_count": 7,
   "metadata": {},
   "outputs": [
    {
     "name": "stdout",
     "output_type": "stream",
     "text": [
      "Training set has 95000 samples, validation set has 5000 samples\n"
     ]
    }
   ],
   "source": [
    "# 5% of the dataset (5,000 reviews for a 100,000-review dataset) is used for testing/validation.\n",
    "valid_size = 0.05\n",
    "total = len(data)\n",
    "indices = list(range(total))\n",
    "num_validation_samples = int(total / 2 * (valid_size)) # Each label makes up half of the testing set.\n",
    "\n",
    "testing_indices = indices[:num_validation_samples] + indices[-num_validation_samples:]\n",
    "training_indices = indices[num_validation_samples:-num_validation_samples]\n",
    "num_testing = len(testing_indices)\n",
    "num_training = len(training_indices)\n",
    "print('Training set has %d samples, validation set has %d samples' % (num_training, num_testing))"
   ]
  },
  {
   "cell_type": "markdown",
   "metadata": {},
   "source": [
    "Finally, we can train. On my laptop, training on just one epoch of a set of 95,000 reviews takes over 10 hours. However, in the event that I ever train for multiple epochs, I've implemented a stop condition for whenever the testing accuracy drops from one epoch to the next. That way, we might avoid overfitting to the training set (though the dropout should help as well)."
   ]
  },
  {
   "cell_type": "code",
   "execution_count": 8,
   "metadata": {
    "collapsed": true
   },
   "outputs": [],
   "source": [
    "from torch.utils.data import DataLoader\n",
    "from torch.utils.data.sampler import SubsetRandomSampler\n",
    "import math, time\n",
    "\n",
    "def timeSince(since):\n",
    "    '''\n",
    "    Get the amount of time that has elapsed since some reference time.\n",
    "    Args:\n",
    "        since (float): The reference time\n",
    "        \n",
    "    Returns:\n",
    "        (string): Amount of time in minutes and seconds that has elapsed since the reference time\n",
    "    '''\n",
    "    now = time.time()\n",
    "    s = now - since\n",
    "    m = math.floor(s / 60)\n",
    "    s -= m * 60\n",
    "    return '%dm %ds' % (m, s)\n",
    "\n",
    "def train(training_set, testing_set, epochs=1):\n",
    "    '''\n",
    "    Trains the RNN.\n",
    "    Args:\n",
    "        training_set (DataLoader): The training set\n",
    "        testing_set (DataLoader): The testing set\n",
    "        epochs (int): Number of epochs\n",
    "        \n",
    "    Returns:\n",
    "        loss_function (List[float]): List of loss function values aggregated over len(training_set)/200 sample intervals.\n",
    "    '''\n",
    "    start = time.time()\n",
    "    print_every = int(len(training_set) / 20)\n",
    "    plot_every = int(len(training_set) / 200)\n",
    "    loss_function = []\n",
    "    total_loss = 0 # Keep track of loss function values over the course of training plot_every samples.\n",
    "    prev_accuracy = 0 # Testing accuracy after training on the previous epoch.\n",
    "    for epoch in range(epochs):\n",
    "        print('Epoch %d' % (epoch))\n",
    "        for i, batch in enumerate(training_set):\n",
    "            # Each batch has just one sample/review.\n",
    "            output, loss = train_one(batch)\n",
    "            total_loss += loss\n",
    "            guess = get_label(output)\n",
    "\n",
    "            # Print sample number, progress percentage, and the loss and guess for that particular sample at regular intervals.\n",
    "            if i % print_every == 0:\n",
    "                correct = '✓' if get_label(output) == batch['label'][0] else '✗ (%s)' % batch['label'][0]\n",
    "                print('Sample %d Progress: %d%% (%s) Loss: %.4f Guess: %d %s' % (i, i / (len(training_set) * epochs) * 100, timeSince(start), loss, guess, correct))\n",
    "\n",
    "            if i % plot_every == 0 and i > 0:\n",
    "                loss_function.append(total_loss / plot_every)\n",
    "                total_loss = 0\n",
    "\n",
    "        print('Testing now...')\n",
    "        accuracy = test(testing_set)\n",
    "        print('Testing accuracy after epoch %d: %.4f%%' % (epoch, accuracy * 100))\n",
    "        if accuracy < prev_accuracy:\n",
    "            print('Testing accuracy dropped... model appears to be overfitting. Stopping training at epoch %d.' % (epoch))\n",
    "            break\n",
    "        else:\n",
    "            prev_accuracy = accuracy\n",
    "            \n",
    "    return loss_function\n",
    "\n",
    "def test(testing_set):\n",
    "    '''\n",
    "    Tests the RNN.\n",
    "    Args:\n",
    "        testing_set (DataLoader): The testing set\n",
    "        \n",
    "    Returns:\n",
    "        accuracy (float): Testing accuracy\n",
    "    '''\n",
    "    correct = 0\n",
    "    print_every = int(len(testing_set) / 20)\n",
    "    start = time.time()\n",
    "    for i, batch in enumerate(testing_set):\n",
    "        # Again, each batch has just one review.\n",
    "        correct += 1 if predict(batch) == batch['label'][0] else 0\n",
    "        \n",
    "        # Print statements at regular intervals to indicate testing progress.\n",
    "        if i % print_every == 0:\n",
    "            print('Sample %d Progress: %d%% (%s) Accuracy: %.4f' % (i, i / len(testing_set) * 100, timeSince(start), correct / (i + 1)))\n",
    "    \n",
    "    accuracy = correct / len(testing_set)\n",
    "#     print('Testing accuracy: %.4f' % (accuracy))\n",
    "    return accuracy"
   ]
  },
  {
   "cell_type": "markdown",
   "metadata": {},
   "source": [
    "The output below the next cell shows the progress of the overnight training and testing process. As you can see, the model achieves a testing accuracy of around 75%. Pretty good and only a little less than the accuracy achieved by Oliviera & Rodrigo."
   ]
  },
  {
   "cell_type": "code",
   "execution_count": 8,
   "metadata": {},
   "outputs": [
    {
     "name": "stdout",
     "output_type": "stream",
     "text": [
      "Epoch 0\n",
      "Sample 0 Progress: 0% (0m 0s) Loss: 0.6776 Guess: 0 ✓\n",
      "Sample 4750 Progress: 5% (35m 57s) Loss: 0.7309 Guess: 0 ✗ (1)\n",
      "Sample 9500 Progress: 10% (83m 31s) Loss: 0.7166 Guess: 1 ✗ (0)\n",
      "Sample 14250 Progress: 15% (117m 11s) Loss: 0.5417 Guess: 0 ✓\n",
      "Sample 19000 Progress: 20% (150m 11s) Loss: 0.6048 Guess: 1 ✓\n",
      "Sample 23750 Progress: 25% (182m 17s) Loss: 0.8632 Guess: 1 ✗ (0)\n",
      "Sample 28500 Progress: 30% (212m 56s) Loss: 0.6235 Guess: 0 ✓\n",
      "Sample 33250 Progress: 35% (242m 50s) Loss: 0.9318 Guess: 1 ✗ (0)\n",
      "Sample 38000 Progress: 40% (273m 3s) Loss: 1.2925 Guess: 0 ✗ (1)\n",
      "Sample 42750 Progress: 45% (302m 42s) Loss: 0.1228 Guess: 0 ✓\n",
      "Sample 47500 Progress: 50% (332m 27s) Loss: 0.1150 Guess: 0 ✓\n",
      "Sample 52250 Progress: 55% (362m 31s) Loss: 0.2325 Guess: 1 ✓\n",
      "Sample 57000 Progress: 60% (393m 1s) Loss: 0.2295 Guess: 1 ✓\n",
      "Sample 61750 Progress: 65% (423m 41s) Loss: 0.2383 Guess: 1 ✓\n",
      "Sample 66500 Progress: 70% (453m 52s) Loss: 0.3823 Guess: 1 ✓\n",
      "Sample 71250 Progress: 75% (483m 37s) Loss: 0.2018 Guess: 0 ✓\n",
      "Sample 76000 Progress: 80% (513m 27s) Loss: 0.2113 Guess: 0 ✓\n",
      "Sample 80750 Progress: 85% (544m 6s) Loss: 0.2104 Guess: 1 ✓\n",
      "Sample 85500 Progress: 90% (574m 26s) Loss: 0.2550 Guess: 0 ✓\n",
      "Sample 90250 Progress: 95% (603m 59s) Loss: 0.3770 Guess: 1 ✓\n",
      "Testing now...\n",
      "Sample 0 Progress: 0% (0m 0s) Accuracy: 1.0000\n",
      "Sample 250 Progress: 5% (0m 40s) Accuracy: 0.7251\n",
      "Sample 500 Progress: 10% (1m 17s) Accuracy: 0.7385\n",
      "Sample 750 Progress: 15% (1m 52s) Accuracy: 0.7590\n",
      "Sample 1000 Progress: 20% (2m 30s) Accuracy: 0.7542\n",
      "Sample 1250 Progress: 25% (3m 8s) Accuracy: 0.7562\n",
      "Sample 1500 Progress: 30% (3m 44s) Accuracy: 0.7615\n",
      "Sample 1750 Progress: 35% (4m 21s) Accuracy: 0.7487\n",
      "Sample 2000 Progress: 40% (4m 58s) Accuracy: 0.7506\n",
      "Sample 2250 Progress: 45% (5m 38s) Accuracy: 0.7463\n",
      "Sample 2500 Progress: 50% (6m 16s) Accuracy: 0.7461\n",
      "Sample 2750 Progress: 55% (6m 53s) Accuracy: 0.7437\n",
      "Sample 3000 Progress: 60% (7m 35s) Accuracy: 0.7434\n",
      "Sample 3250 Progress: 65% (8m 12s) Accuracy: 0.7450\n",
      "Sample 3500 Progress: 70% (8m 51s) Accuracy: 0.7438\n",
      "Sample 3750 Progress: 75% (9m 30s) Accuracy: 0.7451\n",
      "Sample 4000 Progress: 80% (10m 9s) Accuracy: 0.7438\n",
      "Sample 4250 Progress: 85% (10m 48s) Accuracy: 0.7466\n",
      "Sample 4500 Progress: 90% (11m 28s) Accuracy: 0.7472\n",
      "Sample 4750 Progress: 95% (12m 6s) Accuracy: 0.7459\n",
      "Testing accuracy after epoch 0: 74.5400%\n"
     ]
    }
   ],
   "source": [
    "### DON'T RUN THIS BLOCK UNLESS YOU WANT TO TRAIN AGAIN\n",
    "training_set = DataLoader(dataset=data, sampler=SubsetRandomSampler(training_indices))\n",
    "testing_set = DataLoader(dataset=data, sampler=SubsetRandomSampler(testing_indices))\n",
    "loss_function = train(training_set, testing_set, epochs=1)"
   ]
  },
  {
   "cell_type": "markdown",
   "metadata": {},
   "source": [
    "In the run above, we see that the classifier was able to achieve an accuracy of 74.5% on the 5,000-review testing set. Oliveiria & Rodrigo managed to get a test accuracy of around 78%, so we aren't too far off! We can plot the loss function to see it slowly converging (though it's clearly jumping around a lot)."
   ]
  },
  {
   "cell_type": "code",
   "execution_count": 9,
   "metadata": {},
   "outputs": [
    {
     "data": {
      "text/plain": [
       "<matplotlib.text.Text at 0x1209b65f8>"
      ]
     },
     "execution_count": 9,
     "metadata": {},
     "output_type": "execute_result"
    },
    {
     "data": {
      "image/png": "[encoded data removed]",
      "text/plain": [
       "<matplotlib.figure.Figure at 0x1968800f0>"
      ]
     },
     "metadata": {},
     "output_type": "display_data"
    }
   ],
   "source": [
    "### DON'T RUN THIS BLOCK IF YOU DIDN'T RUN THE LAST ONE\n",
    "\n",
    "import matplotlib.pyplot as plt\n",
    "import matplotlib.ticker as ticker\n",
    "%matplotlib inline\n",
    "\n",
    "fig = plt.figure()\n",
    "plt.plot([i * int(num_training / 200) for i in range(len(loss_function))], loss_function)\n",
    "plt.title('Optimization of cost function during training')\n",
    "plt.xlabel('Sample Number')\n",
    "plt.ylabel('Loss Function')"
   ]
  },
  {
   "cell_type": "markdown",
   "metadata": {},
   "source": [
    "## The results\n",
    "Since it takes so long to train the classifier, I've saved the parameters of my best model, trained on 95,000 reviews. In the next code block, I load the parameters into a new RNN and test the accuracy on a small 600-sample testing set. The testing here runs fairly quickly, so feel free to run the block to see the model in action! Make sure you've downloaded the dataset and successfully ran all of the code blocks above **except** for the very first block and the two immediately before this one."
   ]
  },
  {
   "cell_type": "code",
   "execution_count": 9,
   "metadata": {},
   "outputs": [
    {
     "name": "stdout",
     "output_type": "stream",
     "text": [
      "Sample 0 Progress: 0% (0m 0s) Accuracy: 1.0000\n",
      "Sample 30 Progress: 5% (0m 4s) Accuracy: 0.9032\n",
      "Sample 60 Progress: 10% (0m 9s) Accuracy: 0.8525\n",
      "Sample 90 Progress: 15% (0m 15s) Accuracy: 0.8791\n",
      "Sample 120 Progress: 20% (0m 19s) Accuracy: 0.8760\n",
      "Sample 150 Progress: 25% (0m 24s) Accuracy: 0.8742\n",
      "Sample 180 Progress: 30% (0m 31s) Accuracy: 0.8343\n",
      "Sample 210 Progress: 35% (0m 39s) Accuracy: 0.8199\n",
      "Sample 240 Progress: 40% (0m 46s) Accuracy: 0.8257\n",
      "Sample 270 Progress: 45% (0m 53s) Accuracy: 0.8303\n",
      "Sample 300 Progress: 50% (0m 58s) Accuracy: 0.8272\n",
      "Sample 330 Progress: 55% (1m 1s) Accuracy: 0.8218\n",
      "Sample 360 Progress: 60% (1m 7s) Accuracy: 0.8283\n",
      "Sample 390 Progress: 65% (1m 13s) Accuracy: 0.8184\n",
      "Sample 420 Progress: 70% (1m 17s) Accuracy: 0.8100\n",
      "Sample 450 Progress: 75% (1m 24s) Accuracy: 0.8049\n",
      "Sample 480 Progress: 80% (1m 32s) Accuracy: 0.8046\n",
      "Sample 510 Progress: 85% (1m 36s) Accuracy: 0.8063\n",
      "Sample 540 Progress: 90% (1m 43s) Accuracy: 0.8133\n",
      "Sample 570 Progress: 95% (1m 48s) Accuracy: 0.8126\n",
      "Testing accuracy on 600 samples: 81.1667%\n"
     ]
    }
   ],
   "source": [
    "# Create new RNN\n",
    "model = RNN(input_size, hidden_units)\n",
    "\n",
    "# Load the learned parameters into the RNN from a file\n",
    "model.load_state_dict(torch.load('model_100000'))\n",
    "\n",
    "# Create the testing set of 600 samples\n",
    "small_testing_indices = indices[:300] + indices[-300:]\n",
    "small_testing_set = DataLoader(dataset=data, sampler=SubsetRandomSampler(small_testing_indices))\n",
    "\n",
    "accuracy = test(small_testing_set)\n",
    "print('Testing accuracy on %d samples: %.4f%%' % (len(small_testing_set), accuracy * 100))"
   ]
  },
  {
   "cell_type": "markdown",
   "metadata": {},
   "source": [
    "81.1667%... Not bad, and definitely better than random guessing!\n",
    "\n",
    "## Future improvement\n",
    "To speed up the training process in the future, I'd like to investigate the use of padding to group word vectors into equal-length batches so that training them can be parallelized."
   ]
  },
  {
   "cell_type": "code",
   "execution_count": null,
   "metadata": {
    "collapsed": true
   },
   "outputs": [],
   "source": []
  }
 ],
 "metadata": {
  "kernelspec": {
   "display_name": "Python 3",
   "language": "python",
   "name": "python3"
  },
  "language_info": {
   "codemirror_mode": {
    "name": "ipython",
    "version": 3
   },
   "file_extension": ".py",
   "mimetype": "text/x-python",
   "name": "python",
   "nbconvert_exporter": "python",
   "pygments_lexer": "ipython3",
   "version": "3.6.2"
  }
 },
 "nbformat": 4,
 "nbformat_minor": 2
}
